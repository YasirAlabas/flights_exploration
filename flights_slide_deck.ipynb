{
 "cells": [
  {
   "cell_type": "markdown",
   "metadata": {
    "slideshow": {
     "slide_type": "slide"
    }
   },
   "source": [
    "# Changes in The Passenger/Seat Ratio For US Flight Trips in 2020\n",
    "## by Yasir Alabas"
   ]
  },
  {
   "cell_type": "markdown",
   "metadata": {
    "slideshow": {
     "slide_type": "slide"
    }
   },
   "source": [
    "## Investigation Overview\n",
    "\n",
    "Our aim in this investigation is to find the factors that influence the number of passengers in a plane, specifically the passneger/seat ratio. This would be achived by studying the other factors such as flight class, distance, mail transformed and flight carrier company.\n",
    "\n"
   ]
  },
  {
   "cell_type": "markdown",
   "metadata": {
    "slideshow": {
     "slide_type": "slide"
    }
   },
   "source": [
    "## Dataset Overview\n",
    "\n",
    "The data consisted of 114135 flights that have been taken during the 4 first months of year 2020 in the US(right before flight lockdown went active in most countries because of the COVID-19 pandemic). The data consists of flight ids, flight destanation and origin, payload, mail, as well as passenger related information like number of passengers transformed and the number of seats that each flight harber. The data also includes the name of the carrier's company and the service class in each flight. There are some additional information about the aircrafts but we will not use those because they are irrelevant to our data exploration objectives."
   ]
  },
  {
   "cell_type": "code",
   "execution_count": 2,
   "metadata": {
    "slideshow": {
     "slide_type": "skip"
    }
   },
   "outputs": [],
   "source": [
    "# import all packages and set plots to be embedded inline\n",
    "import numpy as np\n",
    "import pandas as pd\n",
    "import matplotlib.pyplot as plt\n",
    "import seaborn as sb\n",
    "\n",
    "%matplotlib inline\n",
    "\n",
    "# suppress warnings from final output\n",
    "import warnings\n",
    "warnings.simplefilter(\"ignore\")"
   ]
  },
  {
   "cell_type": "code",
   "execution_count": 3,
   "metadata": {
    "slideshow": {
     "slide_type": "skip"
    }
   },
   "outputs": [],
   "source": [
    "# load in the dataset into a pandas dataframe\n",
    "flights = pd.read_csv('flights.csv')"
   ]
  },
  {
   "cell_type": "code",
   "execution_count": 4,
   "metadata": {
    "slideshow": {
     "slide_type": "skip"
    }
   },
   "outputs": [],
   "source": [
    "flights['CLASS']=flights.CLASS.astype('category')\n",
    "flights['Passenger_Seat_Ratio'] = flights.PASSENGERS.div(flights.SEATS)\n",
    "flights = flights.query('Passenger_Seat_Ratio <= 1')\n",
    "\n",
    "flights['MONTH']=flights['MONTH'].replace(1, 'January')\n",
    "flights['MONTH']=flights['MONTH'].replace(2, 'February')\n",
    "flights['MONTH']=flights['MONTH'].replace(3, 'March')\n",
    "flights['MONTH']=flights['MONTH'].replace(4, 'April')\n",
    "\n",
    "flights['CLASS']=flights['CLASS'].replace('F', 'Full First')\n",
    "flights['CLASS']=flights['CLASS'].replace('G', 'Economy')\n",
    "flights['CLASS']=flights['CLASS'].replace('L', 'Business')\n",
    "flights['CLASS']=flights['CLASS'].replace('P', 'Discounted First')\n",
    "\n",
    "top_carriers = flights.UNIQUE_CARRIER_NAME.apply(lambda x: 'Southwest Airlines Co.' if x in\n",
    "    'Southwest Airlines Co.' else 'Delta Air Lines Inc.' if x in\n",
    "    'Delta Air Lines Inc.' else 'SkyWest Airlines Inc.' if x in\n",
    "    'SkyWest Airlines Inc.' else 'United Air Lines Inc.' if x in\n",
    "    'United Air Lines Inc.'  else 'American Airlines Inc.' if x in\n",
    "    'American Airlines Inc.' else np.nan)\n",
    "\n",
    "top_origin = flights.ORIGIN_CITY_NAME.apply(lambda x: 'Chicago, IL' if x in\n",
    "    'Chicago, IL' else 'Denver, CO' if x in\n",
    "    'Denver, CO' else 'Atlanta, GA' if x in\n",
    "    'Atlanta, GA'  else 'Houston, TX' if x in\n",
    "    'Houston, TX' else 'Washington, DC' if x in\n",
    "    'Washington, DC' else np.nan)"
   ]
  },
  {
   "cell_type": "markdown",
   "metadata": {
    "slideshow": {
     "slide_type": "slide"
    }
   },
   "source": [
    "## Distribution of Passenger/Seat Ratio\n",
    "\n",
    "The vast majority of flights taken were either empty or contain a very low number of passengers, coming after that is percentage of either almost full flights, or 80%-85% full."
   ]
  },
  {
   "cell_type": "code",
   "execution_count": 6,
   "metadata": {
    "slideshow": {
     "slide_type": "subslide"
    }
   },
   "outputs": [
    {
     "data": {
      "image/png": "[encoded data removed]",
      "text/plain": [
       "<Figure size 576x360 with 1 Axes>"
      ]
     },
     "metadata": {
      "needs_background": "light"
     },
     "output_type": "display_data"
    }
   ],
   "source": [
    "binsize = 0.05\n",
    "bins = np.arange(0, flights['Passenger_Seat_Ratio'].max()+binsize, binsize)\n",
    "plt.figure(figsize=[8, 5])\n",
    "plt.hist(data = flights, x = 'Passenger_Seat_Ratio', bins = bins);\n",
    "plt.xticks([0.0, 0.1, 0.2, 0.3, 0.4, 0.5, 0.6, 0.7, 0.8, 0.9, 1],\n",
    "           ['0%', '10%', '20%','30%', '40%', '50%', '60%', '70%', '80%', '90%', '100%'])\n",
    "plt.title('Distribution of Plane Occupation Percentage')\n",
    "plt.ylabel('Count')\n",
    "plt.xlabel('Percentage of Plane Occupied')\n",
    "plt.xlim((0,1.1));"
   ]
  },
  {
   "cell_type": "markdown",
   "metadata": {
    "collapsed": true,
    "slideshow": {
     "slide_type": "slide"
    }
   },
   "source": [
    "## Number of Flights Taken in Q1 of 2020\n",
    "\n",
    "The number of flight trips during the first 4 months of 2020 drastically fell from around 29000 flights in January to almost half of that number in April this is mostly due to flight restrictions that accord at the time from March to April because of the COVID-19 virus. As we can conclude from that sharp decline which happened between March and April."
   ]
  },
  {
   "cell_type": "code",
   "execution_count": 9,
   "metadata": {
    "slideshow": {
     "slide_type": "subslide"
    }
   },
   "outputs": [
    {
     "data": {
      "image/png": "[encoded data removed]",
      "text/plain": [
       "<Figure size 432x288 with 1 Axes>"
      ]
     },
     "metadata": {
      "needs_background": "light"
     },
     "output_type": "display_data"
    }
   ],
   "source": [
    "fig = plt.figure()\n",
    "ax = fig.add_axes([.125, .125, .775, .755])\n",
    "base_color = sb.color_palette()[0]\n",
    "plt.title('Number of Flights Taken in The Firat Quarter of 2020')\n",
    "sb.countplot(data = flights, x = 'MONTH', color = base_color, ax = ax);"
   ]
  },
  {
   "cell_type": "markdown",
   "metadata": {
    "slideshow": {
     "slide_type": "slide"
    }
   },
   "source": [
    "## Top Traveled on US Airlines in Q1 of 2020\n",
    "\n",
    "The top US airlines that people tend to travel on are by order Southwest Airlines, Delta Airlines, SkyWest Airlines, United Airlines and American Airlines. This by all means does not indicate that these airlines are the most likable, it just state's that these are the airlines that have the most travel records in Q1 of 2020."
   ]
  },
  {
   "cell_type": "code",
   "execution_count": 26,
   "metadata": {
    "slideshow": {
     "slide_type": "subslide"
    }
   },
   "outputs": [
    {
     "data": {
      "image/png": "[encoded data removed]",
      "text/plain": [
       "<Figure size 432x288 with 1 Axes>"
      ]
     },
     "metadata": {
      "needs_background": "light"
     },
     "output_type": "display_data"
    }
   ],
   "source": [
    "flights.UNIQUE_CARRIER_NAME.value_counts().head(10).plot(kind='barh', title = 'Most Traveled on Flight Companies')\n",
    "plt.xlabel('Number of Trips Taken in Q1 of 2020');"
   ]
  },
  {
   "cell_type": "markdown",
   "metadata": {
    "slideshow": {
     "slide_type": "slide"
    }
   },
   "source": [
    "## Variation of Passenger/Seat Ratio in Top 5 US Airlines\n",
    "\n",
    "The passenger/seat ratio range differ from airline to airline. Southwest Airlines has a wide range when talking about that ratio, ranging from 20%-80% of the flights being full. while the United Airlines range form about 50%-85%(which might indicate that the United Airlines is more succesfull in making sure that they sell a higher rate of seats compared to Southwest Airlines)."
   ]
  },
  {
   "cell_type": "code",
   "execution_count": 13,
   "metadata": {
    "slideshow": {
     "slide_type": "subslide"
    }
   },
   "outputs": [
    {
     "data": {
      "image/png": "[encoded data removed]",
      "text/plain": [
       "<Figure size 432x288 with 1 Axes>"
      ]
     },
     "metadata": {
      "needs_background": "light"
     },
     "output_type": "display_data"
    }
   ],
   "source": [
    "base_color = sb.color_palette()[0]\n",
    "sb.boxplot(data = flights, x = 'Passenger_Seat_Ratio', y = top_carriers, color = base_color)\n",
    "plt.title('Passenger/Seat Ratio for Top US Airlines in Q1 of 2020')\n",
    "plt.xlabel('Passenger/Seat Ratio')\n",
    "plt.ylabel('Carrier Company');"
   ]
  },
  {
   "cell_type": "markdown",
   "metadata": {
    "slideshow": {
     "slide_type": "skip"
    }
   },
   "source": [
    "> Once you're ready to finish your presentation, check your output by using\n",
    "nbconvert to export the notebook and set up a server for the slides. From the\n",
    "terminal or command line, use the following expression:\n",
    "> > `jupyter nbconvert flights_slide_deck.ipynb --to slides --post serve --template output_toggle`\n",
    "\n",
    "> This should open a tab in your web browser where you can scroll through your\n",
    "presentation. Sub-slides can be accessed by pressing 'down' when viewing its parent\n",
    "slide. Make sure you remove all of the quote-formatted guide notes like this one\n",
    "before you finish your presentation!"
   ]
  },
  {
   "cell_type": "code",
   "execution_count": 28,
   "metadata": {
    "scrolled": false,
    "slideshow": {
     "slide_type": "skip"
    }
   },
   "outputs": [
    {
     "name": "stderr",
     "output_type": "stream",
     "text": [
      "[NbConvertApp] Converting notebook flights_slide_deck.ipynb to slides\n",
      "[NbConvertApp] Writing 359592 bytes to flights_slide_deck.slides.html\n",
      "[NbConvertApp] Redirecting reveal.js requests to https://cdnjs.cloudflare.com/ajax/libs/reveal.js/3.5.0\n",
      "Traceback (most recent call last):\n",
      "  File \"C:\\Users\\Yasir\\anaconda3\\Scripts\\jupyter-nbconvert-script.py\", line 10, in <module>\n",
      "    sys.exit(main())\n",
      "  File \"C:\\Users\\Yasir\\anaconda3\\lib\\site-packages\\jupyter_core\\application.py\", line 270, in launch_instance\n",
      "    return super(JupyterApp, cls).launch_instance(argv=argv, **kwargs)\n",
      "  File \"C:\\Users\\Yasir\\anaconda3\\lib\\site-packages\\traitlets\\config\\application.py\", line 664, in launch_instance\n",
      "    app.start()\n",
      "  File \"C:\\Users\\Yasir\\anaconda3\\lib\\site-packages\\nbconvert\\nbconvertapp.py\", line 340, in start\n",
      "    self.convert_notebooks()\n",
      "  File \"C:\\Users\\Yasir\\anaconda3\\lib\\site-packages\\nbconvert\\nbconvertapp.py\", line 510, in convert_notebooks\n",
      "    self.convert_single_notebook(notebook_filename)\n",
      "  File \"C:\\Users\\Yasir\\anaconda3\\lib\\site-packages\\nbconvert\\nbconvertapp.py\", line 483, in convert_single_notebook\n",
      "    self.postprocess_single_notebook(write_results)\n",
      "  File \"C:\\Users\\Yasir\\anaconda3\\lib\\site-packages\\nbconvert\\nbconvertapp.py\", line 455, in postprocess_single_notebook\n",
      "    self.postprocessor(write_results)\n",
      "  File \"C:\\Users\\Yasir\\anaconda3\\lib\\site-packages\\nbconvert\\postprocessors\\base.py\", line 28, in __call__\n",
      "    self.postprocess(input)\n",
      "  File \"C:\\Users\\Yasir\\anaconda3\\lib\\site-packages\\nbconvert\\postprocessors\\serve.py\", line 90, in postprocess\n",
      "    http_server.listen(self.port, address=self.ip)\n",
      "  File \"C:\\Users\\Yasir\\anaconda3\\lib\\site-packages\\tornado\\tcpserver.py\", line 151, in listen\n",
      "    sockets = bind_sockets(port, address=address)\n",
      "  File \"C:\\Users\\Yasir\\anaconda3\\lib\\site-packages\\tornado\\netutil.py\", line 174, in bind_sockets\n",
      "    sock.bind(sockaddr)\n",
      "OSError: [WinError 10048] Only one usage of each socket address (protocol/network address/port) is normally permitted\n"
     ]
    }
   ],
   "source": [
    "!jupyter nbconvert flights_slide_deck.ipynb --to slides --post serve --template output_toggle"
   ]
  },
  {
   "cell_type": "code",
   "execution_count": 21,
   "metadata": {
    "slideshow": {
     "slide_type": "skip"
    }
   },
   "outputs": [
    {
     "data": {
      "text/plain": [
       "0"
      ]
     },
     "execution_count": 21,
     "metadata": {},
     "output_type": "execute_result"
    }
   ],
   "source": [
    "from subprocess import call\n",
    "call(['python', '-m', 'nbconvert', 'flights_slide_deck.ipynb'])"
   ]
  },
  {
   "cell_type": "code",
   "execution_count": null,
   "metadata": {},
   "outputs": [],
   "source": []
  }
 ],
 "metadata": {
  "celltoolbar": "Slideshow",
  "kernelspec": {
   "display_name": "Python 3",
   "language": "python",
   "name": "python3"
  },
  "language_info": {
   "codemirror_mode": {
    "name": "ipython",
    "version": 3
   },
   "file_extension": ".py",
   "mimetype": "text/x-python",
   "name": "python",
   "nbconvert_exporter": "python",
   "pygments_lexer": "ipython3",
   "version": "3.7.7"
  }
 },
 "nbformat": 4,
 "nbformat_minor": 2
}
